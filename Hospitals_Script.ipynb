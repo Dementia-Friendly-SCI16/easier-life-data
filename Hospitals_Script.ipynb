{
 "cells": [
  {
   "cell_type": "markdown",
   "metadata": {},
   "source": [
    "## In this notebook, I am going to write a python script to merge the \"MetroHospitalList_Metro.csv\" and \"\" file to get the Telephone number of all the Hospitals in Victoria because it will be used in the Appliaction."
   ]
  },
  {
   "cell_type": "markdown",
   "metadata": {},
   "source": [
    "## Then I will again merge the new dataset with \"Hospital_Locations.csv\" to get the X and Y co-ordinates of the Hospitals. "
   ]
  },
  {
   "cell_type": "markdown",
   "metadata": {},
   "source": [
    "## The main goal is to Merge the 3 Big datasets into one Large datasets which will have Longitude, Latitude, Address, Postcode and Telephone number of each Hospital in Victoria. So that, it will easier to use the dataset in the app to fetch required infomation about Hospitals."
   ]
  },
  {
   "cell_type": "markdown",
   "metadata": {},
   "source": [
    "First, let's import the necessary libraries"
   ]
  },
  {
   "cell_type": "code",
   "execution_count": 1,
   "metadata": {},
   "outputs": [],
   "source": [
    "import pandas as pd                                 # To manipulate dataframes\n",
    "import re                                           # For using Regular Expressions\n",
    "import warnings                                     # To ignore the warnings in order to beautify the script\n",
    "warnings.filterwarnings('ignore')"
   ]
  },
  {
   "cell_type": "markdown",
   "metadata": {},
   "source": [
    "Now, Let's import the **\"MetroHospitalList_Metro.csv\"** datatset and store it as **metro** dataframe"
   ]
  },
  {
   "cell_type": "code",
   "execution_count": 2,
   "metadata": {},
   "outputs": [],
   "source": [
    "metro = pd.read_csv(\"MetroHospitalList_Metro.csv\")            "
   ]
  },
  {
   "cell_type": "markdown",
   "metadata": {},
   "source": [
    "Let's look at first few rows of the dataset to have an idea"
   ]
  },
  {
   "cell_type": "code",
   "execution_count": 3,
   "metadata": {},
   "outputs": [
    {
     "data": {
      "text/html": [
       "<div>\n",
       "<style scoped>\n",
       "    .dataframe tbody tr th:only-of-type {\n",
       "        vertical-align: middle;\n",
       "    }\n",
       "\n",
       "    .dataframe tbody tr th {\n",
       "        vertical-align: top;\n",
       "    }\n",
       "\n",
       "    .dataframe thead th {\n",
       "        text-align: right;\n",
       "    }\n",
       "</style>\n",
       "<table border=\"1\" class=\"dataframe\">\n",
       "  <thead>\n",
       "    <tr style=\"text-align: right;\">\n",
       "      <th></th>\n",
       "      <th>ParentName</th>\n",
       "      <th>Hospital Name</th>\n",
       "      <th>Address</th>\n",
       "      <th>Location</th>\n",
       "      <th>Postcode</th>\n",
       "      <th>CEO/EO Site</th>\n",
       "      <th>Hospital Email</th>\n",
       "      <th>Telephone</th>\n",
       "      <th>Fax</th>\n",
       "      <th>RegistrarTypeCode</th>\n",
       "    </tr>\n",
       "  </thead>\n",
       "  <tbody>\n",
       "    <tr>\n",
       "      <th>0</th>\n",
       "      <td>Alfred Health</td>\n",
       "      <td>Alfred Health</td>\n",
       "      <td>c/- The Alfred, 55 Commercial Road Melbourne V...</td>\n",
       "      <td>Melbourne</td>\n",
       "      <td>3004</td>\n",
       "      <td>Andrew Way</td>\n",
       "      <td>ceo@alfred.org.au</td>\n",
       "      <td>03 9076 2000</td>\n",
       "      <td>03 9076 3409</td>\n",
       "      <td>AU</td>\n",
       "    </tr>\n",
       "    <tr>\n",
       "      <th>1</th>\n",
       "      <td>Alfred Health</td>\n",
       "      <td>Caulfield Hospital</td>\n",
       "      <td>260 Kooyong Road Caulfield VIC 3162</td>\n",
       "      <td>Caulfield</td>\n",
       "      <td>3162</td>\n",
       "      <td>Andrew Way</td>\n",
       "      <td>publicaffairs@alfred.org.au</td>\n",
       "      <td>03 9076 6000</td>\n",
       "      <td>03 9076 6434</td>\n",
       "      <td>AG</td>\n",
       "    </tr>\n",
       "    <tr>\n",
       "      <th>2</th>\n",
       "      <td>Alfred Health</td>\n",
       "      <td>Sandringham Hospital</td>\n",
       "      <td>193 Bluff Road\\r\\r Sandringham VIC 3191</td>\n",
       "      <td>Sandringham</td>\n",
       "      <td>3191</td>\n",
       "      <td>Andrew Way</td>\n",
       "      <td>publicaffairs@alfred.org.au</td>\n",
       "      <td>03 9076 1000</td>\n",
       "      <td>03 9598 1539</td>\n",
       "      <td>AG</td>\n",
       "    </tr>\n",
       "    <tr>\n",
       "      <th>3</th>\n",
       "      <td>Alfred Health</td>\n",
       "      <td>The Alfred</td>\n",
       "      <td>55 Commercial Road \\r\\rMelbourne VIC 3004</td>\n",
       "      <td>Melbourne</td>\n",
       "      <td>3004</td>\n",
       "      <td>Andrew Way</td>\n",
       "      <td>publicaffairs@alfred.org.au</td>\n",
       "      <td>03 9076 2000</td>\n",
       "      <td>03 9076 2222</td>\n",
       "      <td>AG</td>\n",
       "    </tr>\n",
       "    <tr>\n",
       "      <th>4</th>\n",
       "      <td>Austin Health</td>\n",
       "      <td>Austin Health</td>\n",
       "      <td>145 Studley Road \\r\\rHeidelberg VIC 3084</td>\n",
       "      <td>Heidelberg</td>\n",
       "      <td>3084</td>\n",
       "      <td>Sue Shilbury</td>\n",
       "      <td>marie.ellis@austin.org.au</td>\n",
       "      <td>03 9496 5000</td>\n",
       "      <td>03 9458 4779</td>\n",
       "      <td>AU</td>\n",
       "    </tr>\n",
       "  </tbody>\n",
       "</table>\n",
       "</div>"
      ],
      "text/plain": [
       "      ParentName         Hospital Name  \\\n",
       "0  Alfred Health         Alfred Health   \n",
       "1  Alfred Health    Caulfield Hospital   \n",
       "2  Alfred Health  Sandringham Hospital   \n",
       "3  Alfred Health            The Alfred   \n",
       "4  Austin Health         Austin Health   \n",
       "\n",
       "                                             Address     Location  Postcode  \\\n",
       "0  c/- The Alfred, 55 Commercial Road Melbourne V...    Melbourne      3004   \n",
       "1                260 Kooyong Road Caulfield VIC 3162    Caulfield      3162   \n",
       "2            193 Bluff Road\\r\\r Sandringham VIC 3191  Sandringham      3191   \n",
       "3          55 Commercial Road \\r\\rMelbourne VIC 3004    Melbourne      3004   \n",
       "4           145 Studley Road \\r\\rHeidelberg VIC 3084   Heidelberg      3084   \n",
       "\n",
       "    CEO/EO Site               Hospital Email     Telephone           Fax  \\\n",
       "0    Andrew Way            ceo@alfred.org.au  03 9076 2000  03 9076 3409   \n",
       "1    Andrew Way  publicaffairs@alfred.org.au  03 9076 6000  03 9076 6434   \n",
       "2    Andrew Way  publicaffairs@alfred.org.au  03 9076 1000  03 9598 1539   \n",
       "3    Andrew Way  publicaffairs@alfred.org.au  03 9076 2000  03 9076 2222   \n",
       "4  Sue Shilbury    marie.ellis@austin.org.au  03 9496 5000  03 9458 4779   \n",
       "\n",
       "  RegistrarTypeCode  \n",
       "0                AU  \n",
       "1                AG  \n",
       "2                AG  \n",
       "3                AG  \n",
       "4                AU  "
      ]
     },
     "execution_count": 3,
     "metadata": {},
     "output_type": "execute_result"
    }
   ],
   "source": [
    "metro.head()"
   ]
  },
  {
   "cell_type": "markdown",
   "metadata": {},
   "source": [
    "It's time to import the second dataset **\"RuralHospitalList_rural.csv\"** and store it as **rural** dataframe"
   ]
  },
  {
   "cell_type": "code",
   "execution_count": 4,
   "metadata": {},
   "outputs": [],
   "source": [
    "rural = pd.read_csv(\"RuralHospitalList_rural.csv\")"
   ]
  },
  {
   "cell_type": "markdown",
   "metadata": {},
   "source": [
    "Let's have a look into the head of the rural dataset."
   ]
  },
  {
   "cell_type": "code",
   "execution_count": 5,
   "metadata": {},
   "outputs": [
    {
     "data": {
      "text/html": [
       "<div>\n",
       "<style scoped>\n",
       "    .dataframe tbody tr th:only-of-type {\n",
       "        vertical-align: middle;\n",
       "    }\n",
       "\n",
       "    .dataframe tbody tr th {\n",
       "        vertical-align: top;\n",
       "    }\n",
       "\n",
       "    .dataframe thead th {\n",
       "        text-align: right;\n",
       "    }\n",
       "</style>\n",
       "<table border=\"1\" class=\"dataframe\">\n",
       "  <thead>\n",
       "    <tr style=\"text-align: right;\">\n",
       "      <th></th>\n",
       "      <th>Hospital Name</th>\n",
       "      <th>Address</th>\n",
       "      <th>Location</th>\n",
       "      <th>Postcode</th>\n",
       "      <th>CEO/EO Site</th>\n",
       "      <th>Hospital Email</th>\n",
       "      <th>Telephone</th>\n",
       "      <th>Fax</th>\n",
       "    </tr>\n",
       "  </thead>\n",
       "  <tbody>\n",
       "    <tr>\n",
       "      <th>0</th>\n",
       "      <td>Albury Wodonga Health</td>\n",
       "      <td>69 Vermont Street\\r\\r Wodonga VIC 3690</td>\n",
       "      <td>Wodonga</td>\n",
       "      <td>3690</td>\n",
       "      <td>Janet Chapman</td>\n",
       "      <td>ceo@awh.org.au</td>\n",
       "      <td>02 6058 4780</td>\n",
       "      <td>02 6058 4680</td>\n",
       "    </tr>\n",
       "    <tr>\n",
       "      <th>1</th>\n",
       "      <td>Alexandra District Health</td>\n",
       "      <td>20 Cooper Street Alexandra VIC 3714</td>\n",
       "      <td>Alexandra</td>\n",
       "      <td>3714</td>\n",
       "      <td>Debbie Rogers</td>\n",
       "      <td>alexandra@humehealth.org.au</td>\n",
       "      <td>03 5772 0900</td>\n",
       "      <td>03 5772 0919</td>\n",
       "    </tr>\n",
       "    <tr>\n",
       "      <th>2</th>\n",
       "      <td>Alpine Health</td>\n",
       "      <td>30 O'Donnell Avenue \\r\\rMyrtleford VIC 3737</td>\n",
       "      <td>Myrtleford</td>\n",
       "      <td>3737</td>\n",
       "      <td>Lyndon Seys</td>\n",
       "      <td>lyndon.seys@alpinehealth.org.au</td>\n",
       "      <td>03 5751 9300</td>\n",
       "      <td>03 5751 9396</td>\n",
       "    </tr>\n",
       "    <tr>\n",
       "      <th>3</th>\n",
       "      <td>Bairnsdale Regional Health Service</td>\n",
       "      <td>122 Day St \\r\\rBairnsdale VIC 3875</td>\n",
       "      <td>Bairnsdale</td>\n",
       "      <td>3875</td>\n",
       "      <td>Robyn Hayles</td>\n",
       "      <td>email@brhs.com.au</td>\n",
       "      <td>03 5150 3333</td>\n",
       "      <td>03 5150 3367</td>\n",
       "    </tr>\n",
       "    <tr>\n",
       "      <th>4</th>\n",
       "      <td>Ballarat Health Services</td>\n",
       "      <td>Drummond Street North \\r\\rBallarat VIC 3353</td>\n",
       "      <td>Ballarat</td>\n",
       "      <td>3353</td>\n",
       "      <td>Dale Fraser</td>\n",
       "      <td>info@bhs.org.au</td>\n",
       "      <td>03 5320 4000</td>\n",
       "      <td>03 5320 4828</td>\n",
       "    </tr>\n",
       "  </tbody>\n",
       "</table>\n",
       "</div>"
      ],
      "text/plain": [
       "                        Hospital Name  \\\n",
       "0               Albury Wodonga Health   \n",
       "1           Alexandra District Health   \n",
       "2                       Alpine Health   \n",
       "3  Bairnsdale Regional Health Service   \n",
       "4            Ballarat Health Services   \n",
       "\n",
       "                                       Address    Location  Postcode  \\\n",
       "0       69 Vermont Street\\r\\r Wodonga VIC 3690     Wodonga      3690   \n",
       "1          20 Cooper Street Alexandra VIC 3714   Alexandra      3714   \n",
       "2  30 O'Donnell Avenue \\r\\rMyrtleford VIC 3737  Myrtleford      3737   \n",
       "3           122 Day St \\r\\rBairnsdale VIC 3875  Bairnsdale      3875   \n",
       "4  Drummond Street North \\r\\rBallarat VIC 3353    Ballarat      3353   \n",
       "\n",
       "     CEO/EO Site                   Hospital Email     Telephone           Fax  \n",
       "0  Janet Chapman                   ceo@awh.org.au  02 6058 4780  02 6058 4680  \n",
       "1  Debbie Rogers      alexandra@humehealth.org.au  03 5772 0900  03 5772 0919  \n",
       "2    Lyndon Seys  lyndon.seys@alpinehealth.org.au  03 5751 9300  03 5751 9396  \n",
       "3   Robyn Hayles                email@brhs.com.au  03 5150 3333  03 5150 3367  \n",
       "4    Dale Fraser                  info@bhs.org.au  03 5320 4000  03 5320 4828  "
      ]
     },
     "execution_count": 5,
     "metadata": {},
     "output_type": "execute_result"
    }
   ],
   "source": [
    "rural.head()"
   ]
  },
  {
   "cell_type": "markdown",
   "metadata": {},
   "source": [
    "#### Now, let's merge the two datasets into one"
   ]
  },
  {
   "cell_type": "code",
   "execution_count": 6,
   "metadata": {},
   "outputs": [],
   "source": [
    "df = pd.concat([metro, rural], ignore_index=True)"
   ]
  },
  {
   "cell_type": "markdown",
   "metadata": {},
   "source": [
    "#### Let's have a look at the newly created datafram"
   ]
  },
  {
   "cell_type": "code",
   "execution_count": 7,
   "metadata": {},
   "outputs": [
    {
     "data": {
      "text/html": [
       "<div>\n",
       "<style scoped>\n",
       "    .dataframe tbody tr th:only-of-type {\n",
       "        vertical-align: middle;\n",
       "    }\n",
       "\n",
       "    .dataframe tbody tr th {\n",
       "        vertical-align: top;\n",
       "    }\n",
       "\n",
       "    .dataframe thead th {\n",
       "        text-align: right;\n",
       "    }\n",
       "</style>\n",
       "<table border=\"1\" class=\"dataframe\">\n",
       "  <thead>\n",
       "    <tr style=\"text-align: right;\">\n",
       "      <th></th>\n",
       "      <th>Address</th>\n",
       "      <th>CEO/EO Site</th>\n",
       "      <th>Fax</th>\n",
       "      <th>Hospital Email</th>\n",
       "      <th>Hospital Name</th>\n",
       "      <th>Location</th>\n",
       "      <th>ParentName</th>\n",
       "      <th>Postcode</th>\n",
       "      <th>RegistrarTypeCode</th>\n",
       "      <th>Telephone</th>\n",
       "    </tr>\n",
       "  </thead>\n",
       "  <tbody>\n",
       "    <tr>\n",
       "      <th>0</th>\n",
       "      <td>c/- The Alfred, 55 Commercial Road Melbourne V...</td>\n",
       "      <td>Andrew Way</td>\n",
       "      <td>03 9076 3409</td>\n",
       "      <td>ceo@alfred.org.au</td>\n",
       "      <td>Alfred Health</td>\n",
       "      <td>Melbourne</td>\n",
       "      <td>Alfred Health</td>\n",
       "      <td>3004</td>\n",
       "      <td>AU</td>\n",
       "      <td>03 9076 2000</td>\n",
       "    </tr>\n",
       "    <tr>\n",
       "      <th>1</th>\n",
       "      <td>260 Kooyong Road Caulfield VIC 3162</td>\n",
       "      <td>Andrew Way</td>\n",
       "      <td>03 9076 6434</td>\n",
       "      <td>publicaffairs@alfred.org.au</td>\n",
       "      <td>Caulfield Hospital</td>\n",
       "      <td>Caulfield</td>\n",
       "      <td>Alfred Health</td>\n",
       "      <td>3162</td>\n",
       "      <td>AG</td>\n",
       "      <td>03 9076 6000</td>\n",
       "    </tr>\n",
       "    <tr>\n",
       "      <th>2</th>\n",
       "      <td>193 Bluff Road\\r\\r Sandringham VIC 3191</td>\n",
       "      <td>Andrew Way</td>\n",
       "      <td>03 9598 1539</td>\n",
       "      <td>publicaffairs@alfred.org.au</td>\n",
       "      <td>Sandringham Hospital</td>\n",
       "      <td>Sandringham</td>\n",
       "      <td>Alfred Health</td>\n",
       "      <td>3191</td>\n",
       "      <td>AG</td>\n",
       "      <td>03 9076 1000</td>\n",
       "    </tr>\n",
       "    <tr>\n",
       "      <th>3</th>\n",
       "      <td>55 Commercial Road \\r\\rMelbourne VIC 3004</td>\n",
       "      <td>Andrew Way</td>\n",
       "      <td>03 9076 2222</td>\n",
       "      <td>publicaffairs@alfred.org.au</td>\n",
       "      <td>The Alfred</td>\n",
       "      <td>Melbourne</td>\n",
       "      <td>Alfred Health</td>\n",
       "      <td>3004</td>\n",
       "      <td>AG</td>\n",
       "      <td>03 9076 2000</td>\n",
       "    </tr>\n",
       "    <tr>\n",
       "      <th>4</th>\n",
       "      <td>145 Studley Road \\r\\rHeidelberg VIC 3084</td>\n",
       "      <td>Sue Shilbury</td>\n",
       "      <td>03 9458 4779</td>\n",
       "      <td>marie.ellis@austin.org.au</td>\n",
       "      <td>Austin Health</td>\n",
       "      <td>Heidelberg</td>\n",
       "      <td>Austin Health</td>\n",
       "      <td>3084</td>\n",
       "      <td>AU</td>\n",
       "      <td>03 9496 5000</td>\n",
       "    </tr>\n",
       "  </tbody>\n",
       "</table>\n",
       "</div>"
      ],
      "text/plain": [
       "                                             Address   CEO/EO Site  \\\n",
       "0  c/- The Alfred, 55 Commercial Road Melbourne V...    Andrew Way   \n",
       "1                260 Kooyong Road Caulfield VIC 3162    Andrew Way   \n",
       "2            193 Bluff Road\\r\\r Sandringham VIC 3191    Andrew Way   \n",
       "3          55 Commercial Road \\r\\rMelbourne VIC 3004    Andrew Way   \n",
       "4           145 Studley Road \\r\\rHeidelberg VIC 3084  Sue Shilbury   \n",
       "\n",
       "            Fax               Hospital Email         Hospital Name  \\\n",
       "0  03 9076 3409            ceo@alfred.org.au         Alfred Health   \n",
       "1  03 9076 6434  publicaffairs@alfred.org.au    Caulfield Hospital   \n",
       "2  03 9598 1539  publicaffairs@alfred.org.au  Sandringham Hospital   \n",
       "3  03 9076 2222  publicaffairs@alfred.org.au            The Alfred   \n",
       "4  03 9458 4779    marie.ellis@austin.org.au         Austin Health   \n",
       "\n",
       "      Location     ParentName  Postcode RegistrarTypeCode     Telephone  \n",
       "0    Melbourne  Alfred Health      3004                AU  03 9076 2000  \n",
       "1    Caulfield  Alfred Health      3162                AG  03 9076 6000  \n",
       "2  Sandringham  Alfred Health      3191                AG  03 9076 1000  \n",
       "3    Melbourne  Alfred Health      3004                AG  03 9076 2000  \n",
       "4   Heidelberg  Austin Health      3084                AU  03 9496 5000  "
      ]
     },
     "execution_count": 7,
     "metadata": {},
     "output_type": "execute_result"
    }
   ],
   "source": [
    "df.head()"
   ]
  },
  {
   "cell_type": "markdown",
   "metadata": {},
   "source": [
    "#### There are some unnecessary columns. Now, let's remove those columns for simplification."
   ]
  },
  {
   "cell_type": "code",
   "execution_count": 8,
   "metadata": {},
   "outputs": [],
   "source": [
    "df= df.drop(['ParentName', 'RegistrarTypeCode','CEO/EO Site','Address','Hospital Email','Fax','Location'], axis=1)"
   ]
  },
  {
   "cell_type": "markdown",
   "metadata": {},
   "source": [
    "### We have removed the above columns because our main goal is to get the Hospital Name, Postcode and Telephone number from these datasets and Location and Address will be generated from the next big dataset"
   ]
  },
  {
   "cell_type": "markdown",
   "metadata": {},
   "source": [
    "#### Let's have a look in the new dataset"
   ]
  },
  {
   "cell_type": "code",
   "execution_count": 9,
   "metadata": {},
   "outputs": [
    {
     "data": {
      "text/html": [
       "<div>\n",
       "<style scoped>\n",
       "    .dataframe tbody tr th:only-of-type {\n",
       "        vertical-align: middle;\n",
       "    }\n",
       "\n",
       "    .dataframe tbody tr th {\n",
       "        vertical-align: top;\n",
       "    }\n",
       "\n",
       "    .dataframe thead th {\n",
       "        text-align: right;\n",
       "    }\n",
       "</style>\n",
       "<table border=\"1\" class=\"dataframe\">\n",
       "  <thead>\n",
       "    <tr style=\"text-align: right;\">\n",
       "      <th></th>\n",
       "      <th>Hospital Name</th>\n",
       "      <th>Postcode</th>\n",
       "      <th>Telephone</th>\n",
       "    </tr>\n",
       "  </thead>\n",
       "  <tbody>\n",
       "    <tr>\n",
       "      <th>0</th>\n",
       "      <td>Alfred Health</td>\n",
       "      <td>3004</td>\n",
       "      <td>03 9076 2000</td>\n",
       "    </tr>\n",
       "    <tr>\n",
       "      <th>1</th>\n",
       "      <td>Caulfield Hospital</td>\n",
       "      <td>3162</td>\n",
       "      <td>03 9076 6000</td>\n",
       "    </tr>\n",
       "    <tr>\n",
       "      <th>2</th>\n",
       "      <td>Sandringham Hospital</td>\n",
       "      <td>3191</td>\n",
       "      <td>03 9076 1000</td>\n",
       "    </tr>\n",
       "    <tr>\n",
       "      <th>3</th>\n",
       "      <td>The Alfred</td>\n",
       "      <td>3004</td>\n",
       "      <td>03 9076 2000</td>\n",
       "    </tr>\n",
       "    <tr>\n",
       "      <th>4</th>\n",
       "      <td>Austin Health</td>\n",
       "      <td>3084</td>\n",
       "      <td>03 9496 5000</td>\n",
       "    </tr>\n",
       "  </tbody>\n",
       "</table>\n",
       "</div>"
      ],
      "text/plain": [
       "          Hospital Name  Postcode     Telephone\n",
       "0         Alfred Health      3004  03 9076 2000\n",
       "1    Caulfield Hospital      3162  03 9076 6000\n",
       "2  Sandringham Hospital      3191  03 9076 1000\n",
       "3            The Alfred      3004  03 9076 2000\n",
       "4         Austin Health      3084  03 9496 5000"
      ]
     },
     "execution_count": 9,
     "metadata": {},
     "output_type": "execute_result"
    }
   ],
   "source": [
    "df.head()"
   ]
  },
  {
   "cell_type": "markdown",
   "metadata": {},
   "source": [
    "Let's rename the column **'Hospital Name'** into **'HospitalName'** for simplification in the later part"
   ]
  },
  {
   "cell_type": "code",
   "execution_count": 10,
   "metadata": {},
   "outputs": [],
   "source": [
    "df = df.rename(columns={'Hospital Name': 'HospitalName'})"
   ]
  },
  {
   "cell_type": "code",
   "execution_count": 11,
   "metadata": {},
   "outputs": [
    {
     "data": {
      "text/html": [
       "<div>\n",
       "<style scoped>\n",
       "    .dataframe tbody tr th:only-of-type {\n",
       "        vertical-align: middle;\n",
       "    }\n",
       "\n",
       "    .dataframe tbody tr th {\n",
       "        vertical-align: top;\n",
       "    }\n",
       "\n",
       "    .dataframe thead th {\n",
       "        text-align: right;\n",
       "    }\n",
       "</style>\n",
       "<table border=\"1\" class=\"dataframe\">\n",
       "  <thead>\n",
       "    <tr style=\"text-align: right;\">\n",
       "      <th></th>\n",
       "      <th>HospitalName</th>\n",
       "      <th>Postcode</th>\n",
       "      <th>Telephone</th>\n",
       "    </tr>\n",
       "  </thead>\n",
       "  <tbody>\n",
       "    <tr>\n",
       "      <th>0</th>\n",
       "      <td>Alfred Health</td>\n",
       "      <td>3004</td>\n",
       "      <td>03 9076 2000</td>\n",
       "    </tr>\n",
       "    <tr>\n",
       "      <th>1</th>\n",
       "      <td>Caulfield Hospital</td>\n",
       "      <td>3162</td>\n",
       "      <td>03 9076 6000</td>\n",
       "    </tr>\n",
       "    <tr>\n",
       "      <th>2</th>\n",
       "      <td>Sandringham Hospital</td>\n",
       "      <td>3191</td>\n",
       "      <td>03 9076 1000</td>\n",
       "    </tr>\n",
       "    <tr>\n",
       "      <th>3</th>\n",
       "      <td>The Alfred</td>\n",
       "      <td>3004</td>\n",
       "      <td>03 9076 2000</td>\n",
       "    </tr>\n",
       "    <tr>\n",
       "      <th>4</th>\n",
       "      <td>Austin Health</td>\n",
       "      <td>3084</td>\n",
       "      <td>03 9496 5000</td>\n",
       "    </tr>\n",
       "  </tbody>\n",
       "</table>\n",
       "</div>"
      ],
      "text/plain": [
       "           HospitalName  Postcode     Telephone\n",
       "0         Alfred Health      3004  03 9076 2000\n",
       "1    Caulfield Hospital      3162  03 9076 6000\n",
       "2  Sandringham Hospital      3191  03 9076 1000\n",
       "3            The Alfred      3004  03 9076 2000\n",
       "4         Austin Health      3084  03 9496 5000"
      ]
     },
     "execution_count": 11,
     "metadata": {},
     "output_type": "execute_result"
    }
   ],
   "source": [
    "df.head()"
   ]
  },
  {
   "cell_type": "markdown",
   "metadata": {},
   "source": [
    "#### Let's sort the dataframe according to Hospital names"
   ]
  },
  {
   "cell_type": "code",
   "execution_count": 12,
   "metadata": {},
   "outputs": [],
   "source": [
    "df.sort_values(by=['HospitalName'], inplace=True)"
   ]
  },
  {
   "cell_type": "code",
   "execution_count": 13,
   "metadata": {},
   "outputs": [
    {
     "data": {
      "text/html": [
       "<div>\n",
       "<style scoped>\n",
       "    .dataframe tbody tr th:only-of-type {\n",
       "        vertical-align: middle;\n",
       "    }\n",
       "\n",
       "    .dataframe tbody tr th {\n",
       "        vertical-align: top;\n",
       "    }\n",
       "\n",
       "    .dataframe thead th {\n",
       "        text-align: right;\n",
       "    }\n",
       "</style>\n",
       "<table border=\"1\" class=\"dataframe\">\n",
       "  <thead>\n",
       "    <tr style=\"text-align: right;\">\n",
       "      <th></th>\n",
       "      <th>HospitalName</th>\n",
       "      <th>Postcode</th>\n",
       "      <th>Telephone</th>\n",
       "    </tr>\n",
       "  </thead>\n",
       "  <tbody>\n",
       "    <tr>\n",
       "      <th>56</th>\n",
       "      <td>Albury Wodonga Health</td>\n",
       "      <td>3690</td>\n",
       "      <td>02 6058 4780</td>\n",
       "    </tr>\n",
       "    <tr>\n",
       "      <th>57</th>\n",
       "      <td>Alexandra District Health</td>\n",
       "      <td>3714</td>\n",
       "      <td>03 5772 0900</td>\n",
       "    </tr>\n",
       "    <tr>\n",
       "      <th>0</th>\n",
       "      <td>Alfred Health</td>\n",
       "      <td>3004</td>\n",
       "      <td>03 9076 2000</td>\n",
       "    </tr>\n",
       "    <tr>\n",
       "      <th>58</th>\n",
       "      <td>Alpine Health</td>\n",
       "      <td>3737</td>\n",
       "      <td>03 5751 9300</td>\n",
       "    </tr>\n",
       "    <tr>\n",
       "      <th>11</th>\n",
       "      <td>Angliss Hospital</td>\n",
       "      <td>3156</td>\n",
       "      <td>03 9764 6111</td>\n",
       "    </tr>\n",
       "  </tbody>\n",
       "</table>\n",
       "</div>"
      ],
      "text/plain": [
       "                 HospitalName  Postcode     Telephone\n",
       "56      Albury Wodonga Health      3690  02 6058 4780\n",
       "57  Alexandra District Health      3714  03 5772 0900\n",
       "0               Alfred Health      3004  03 9076 2000\n",
       "58              Alpine Health      3737  03 5751 9300\n",
       "11           Angliss Hospital      3156  03 9764 6111"
      ]
     },
     "execution_count": 13,
     "metadata": {},
     "output_type": "execute_result"
    }
   ],
   "source": [
    "df.head()"
   ]
  },
  {
   "cell_type": "markdown",
   "metadata": {},
   "source": [
    "#### Now, let's reset the index "
   ]
  },
  {
   "cell_type": "code",
   "execution_count": 14,
   "metadata": {},
   "outputs": [],
   "source": [
    "df = df.reset_index(drop=True)"
   ]
  },
  {
   "cell_type": "code",
   "execution_count": 15,
   "metadata": {},
   "outputs": [
    {
     "data": {
      "text/html": [
       "<div>\n",
       "<style scoped>\n",
       "    .dataframe tbody tr th:only-of-type {\n",
       "        vertical-align: middle;\n",
       "    }\n",
       "\n",
       "    .dataframe tbody tr th {\n",
       "        vertical-align: top;\n",
       "    }\n",
       "\n",
       "    .dataframe thead th {\n",
       "        text-align: right;\n",
       "    }\n",
       "</style>\n",
       "<table border=\"1\" class=\"dataframe\">\n",
       "  <thead>\n",
       "    <tr style=\"text-align: right;\">\n",
       "      <th></th>\n",
       "      <th>HospitalName</th>\n",
       "      <th>Postcode</th>\n",
       "      <th>Telephone</th>\n",
       "    </tr>\n",
       "  </thead>\n",
       "  <tbody>\n",
       "    <tr>\n",
       "      <th>0</th>\n",
       "      <td>Albury Wodonga Health</td>\n",
       "      <td>3690</td>\n",
       "      <td>02 6058 4780</td>\n",
       "    </tr>\n",
       "    <tr>\n",
       "      <th>1</th>\n",
       "      <td>Alexandra District Health</td>\n",
       "      <td>3714</td>\n",
       "      <td>03 5772 0900</td>\n",
       "    </tr>\n",
       "    <tr>\n",
       "      <th>2</th>\n",
       "      <td>Alfred Health</td>\n",
       "      <td>3004</td>\n",
       "      <td>03 9076 2000</td>\n",
       "    </tr>\n",
       "    <tr>\n",
       "      <th>3</th>\n",
       "      <td>Alpine Health</td>\n",
       "      <td>3737</td>\n",
       "      <td>03 5751 9300</td>\n",
       "    </tr>\n",
       "    <tr>\n",
       "      <th>4</th>\n",
       "      <td>Angliss Hospital</td>\n",
       "      <td>3156</td>\n",
       "      <td>03 9764 6111</td>\n",
       "    </tr>\n",
       "  </tbody>\n",
       "</table>\n",
       "</div>"
      ],
      "text/plain": [
       "                HospitalName  Postcode     Telephone\n",
       "0      Albury Wodonga Health      3690  02 6058 4780\n",
       "1  Alexandra District Health      3714  03 5772 0900\n",
       "2              Alfred Health      3004  03 9076 2000\n",
       "3              Alpine Health      3737  03 5751 9300\n",
       "4           Angliss Hospital      3156  03 9764 6111"
      ]
     },
     "execution_count": 15,
     "metadata": {},
     "output_type": "execute_result"
    }
   ],
   "source": [
    "df.head()"
   ]
  },
  {
   "cell_type": "markdown",
   "metadata": {},
   "source": [
    "#### Next, check if there is any null values in the dataframe"
   ]
  },
  {
   "cell_type": "code",
   "execution_count": 16,
   "metadata": {},
   "outputs": [
    {
     "data": {
      "text/plain": [
       "HospitalName    0\n",
       "Postcode        0\n",
       "Telephone       0\n",
       "dtype: int64"
      ]
     },
     "execution_count": 16,
     "metadata": {},
     "output_type": "execute_result"
    }
   ],
   "source": [
    "df.isnull().sum()"
   ]
  },
  {
   "cell_type": "markdown",
   "metadata": {},
   "source": [
    "#### There is no null value which is really good news. Now, let's check the type of the columns"
   ]
  },
  {
   "cell_type": "code",
   "execution_count": 17,
   "metadata": {},
   "outputs": [
    {
     "data": {
      "text/plain": [
       "HospitalName    object\n",
       "Postcode         int64\n",
       "Telephone       object\n",
       "dtype: object"
      ]
     },
     "execution_count": 17,
     "metadata": {},
     "output_type": "execute_result"
    }
   ],
   "source": [
    "df.dtypes"
   ]
  },
  {
   "cell_type": "markdown",
   "metadata": {},
   "source": [
    "### Up next, I will import the \"Hospital_Locations.csv\" and store it as \"df_new\" dataframe and do some cleaning task on it"
   ]
  },
  {
   "cell_type": "code",
   "execution_count": 18,
   "metadata": {},
   "outputs": [],
   "source": [
    "df_new = pd.read_csv(\"Hospital_Locations.csv\")"
   ]
  },
  {
   "cell_type": "markdown",
   "metadata": {},
   "source": [
    "#### Let's have a look at the dataset"
   ]
  },
  {
   "cell_type": "code",
   "execution_count": 19,
   "metadata": {},
   "outputs": [
    {
     "data": {
      "text/html": [
       "<div>\n",
       "<style scoped>\n",
       "    .dataframe tbody tr th:only-of-type {\n",
       "        vertical-align: middle;\n",
       "    }\n",
       "\n",
       "    .dataframe tbody tr th {\n",
       "        vertical-align: top;\n",
       "    }\n",
       "\n",
       "    .dataframe thead th {\n",
       "        text-align: right;\n",
       "    }\n",
       "</style>\n",
       "<table border=\"1\" class=\"dataframe\">\n",
       "  <thead>\n",
       "    <tr style=\"text-align: right;\">\n",
       "      <th></th>\n",
       "      <th>X</th>\n",
       "      <th>Y</th>\n",
       "      <th>FID</th>\n",
       "      <th>LabelName</th>\n",
       "      <th>OpsName</th>\n",
       "      <th>Type</th>\n",
       "      <th>StreetNum</th>\n",
       "      <th>RoadName</th>\n",
       "      <th>RoadType</th>\n",
       "      <th>RoadSuffix</th>\n",
       "      <th>CampusCode</th>\n",
       "      <th>LGAName</th>\n",
       "      <th>LocalityNa</th>\n",
       "      <th>Postcode</th>\n",
       "      <th>VicgovRegi</th>\n",
       "      <th>State</th>\n",
       "      <th>ServiceNam</th>\n",
       "    </tr>\n",
       "  </thead>\n",
       "  <tbody>\n",
       "    <tr>\n",
       "      <th>0</th>\n",
       "      <td>144.983399</td>\n",
       "      <td>-37.809681</td>\n",
       "      <td>1</td>\n",
       "      <td>East Melbourne Specialist Day Hospital</td>\n",
       "      <td>EAST MELBOURNE DAY HOSPITAL</td>\n",
       "      <td>PRIVATE</td>\n",
       "      <td>23</td>\n",
       "      <td>CLARENDON</td>\n",
       "      <td>STREET</td>\n",
       "      <td></td>\n",
       "      <td>8280</td>\n",
       "      <td>MELBOURNE</td>\n",
       "      <td></td>\n",
       "      <td>3002</td>\n",
       "      <td>NWMR</td>\n",
       "      <td>VIC</td>\n",
       "      <td></td>\n",
       "    </tr>\n",
       "    <tr>\n",
       "      <th>1</th>\n",
       "      <td>145.149300</td>\n",
       "      <td>-37.951400</td>\n",
       "      <td>2</td>\n",
       "      <td>Windsor Avenue Day Surgery</td>\n",
       "      <td>WINDSOR AVENUE DAY SURGERY</td>\n",
       "      <td>PRIVATE</td>\n",
       "      <td>17</td>\n",
       "      <td>WINDSOR</td>\n",
       "      <td>AVENUE</td>\n",
       "      <td></td>\n",
       "      <td>7050</td>\n",
       "      <td>GREATER DANDENONG</td>\n",
       "      <td></td>\n",
       "      <td>3171</td>\n",
       "      <td>SMR</td>\n",
       "      <td>VIC</td>\n",
       "      <td></td>\n",
       "    </tr>\n",
       "    <tr>\n",
       "      <th>2</th>\n",
       "      <td>145.344653</td>\n",
       "      <td>-38.034580</td>\n",
       "      <td>3</td>\n",
       "      <td>Hyperbaric Health Wound Centre Berwick</td>\n",
       "      <td>HYPERBARIC HEALTH - BERWICK</td>\n",
       "      <td>PRIVATE</td>\n",
       "      <td>3</td>\n",
       "      <td>GIBB</td>\n",
       "      <td>STREET</td>\n",
       "      <td></td>\n",
       "      <td>7100</td>\n",
       "      <td>CASEY</td>\n",
       "      <td></td>\n",
       "      <td>3806</td>\n",
       "      <td>SMR</td>\n",
       "      <td>VIC</td>\n",
       "      <td></td>\n",
       "    </tr>\n",
       "    <tr>\n",
       "      <th>3</th>\n",
       "      <td>143.832286</td>\n",
       "      <td>-37.540553</td>\n",
       "      <td>4</td>\n",
       "      <td>Ballarat Day Procedure Centre</td>\n",
       "      <td>BALLARAT DAY PROCEDURE CENTRE</td>\n",
       "      <td>PRIVATE</td>\n",
       "      <td>1117-1123</td>\n",
       "      <td>HOWITT</td>\n",
       "      <td>STREET</td>\n",
       "      <td></td>\n",
       "      <td>8430</td>\n",
       "      <td>BALLARAT</td>\n",
       "      <td></td>\n",
       "      <td>3355</td>\n",
       "      <td>Gram</td>\n",
       "      <td>VIC</td>\n",
       "      <td></td>\n",
       "    </tr>\n",
       "    <tr>\n",
       "      <th>4</th>\n",
       "      <td>145.143379</td>\n",
       "      <td>-38.148189</td>\n",
       "      <td>5</td>\n",
       "      <td>Bayside Day Procedure and Specialist Centre</td>\n",
       "      <td>BAYSIDE DAY PROCEDURE CENTRE</td>\n",
       "      <td>PRIVATE</td>\n",
       "      <td>141</td>\n",
       "      <td>CRANBOURNE</td>\n",
       "      <td>ROAD</td>\n",
       "      <td></td>\n",
       "      <td>7310</td>\n",
       "      <td>FRANKSTON</td>\n",
       "      <td></td>\n",
       "      <td>3199</td>\n",
       "      <td>SMR</td>\n",
       "      <td>VIC</td>\n",
       "      <td></td>\n",
       "    </tr>\n",
       "  </tbody>\n",
       "</table>\n",
       "</div>"
      ],
      "text/plain": [
       "            X          Y  FID                                    LabelName  \\\n",
       "0  144.983399 -37.809681    1       East Melbourne Specialist Day Hospital   \n",
       "1  145.149300 -37.951400    2                   Windsor Avenue Day Surgery   \n",
       "2  145.344653 -38.034580    3       Hyperbaric Health Wound Centre Berwick   \n",
       "3  143.832286 -37.540553    4                Ballarat Day Procedure Centre   \n",
       "4  145.143379 -38.148189    5  Bayside Day Procedure and Specialist Centre   \n",
       "\n",
       "                         OpsName     Type  StreetNum    RoadName RoadType  \\\n",
       "0    EAST MELBOURNE DAY HOSPITAL  PRIVATE         23   CLARENDON   STREET   \n",
       "1     WINDSOR AVENUE DAY SURGERY  PRIVATE         17     WINDSOR   AVENUE   \n",
       "2    HYPERBARIC HEALTH - BERWICK  PRIVATE          3        GIBB   STREET   \n",
       "3  BALLARAT DAY PROCEDURE CENTRE  PRIVATE  1117-1123      HOWITT   STREET   \n",
       "4   BAYSIDE DAY PROCEDURE CENTRE  PRIVATE        141  CRANBOURNE     ROAD   \n",
       "\n",
       "  RoadSuffix  CampusCode            LGAName LocalityNa  Postcode VicgovRegi  \\\n",
       "0                   8280          MELBOURNE                 3002       NWMR   \n",
       "1                   7050  GREATER DANDENONG                 3171        SMR   \n",
       "2                   7100              CASEY                 3806        SMR   \n",
       "3                   8430           BALLARAT                 3355       Gram   \n",
       "4                   7310          FRANKSTON                 3199        SMR   \n",
       "\n",
       "  State ServiceNam  \n",
       "0   VIC             \n",
       "1   VIC             \n",
       "2   VIC             \n",
       "3   VIC             \n",
       "4   VIC             "
      ]
     },
     "execution_count": 19,
     "metadata": {},
     "output_type": "execute_result"
    }
   ],
   "source": [
    "df_new.head()"
   ]
  },
  {
   "cell_type": "markdown",
   "metadata": {},
   "source": [
    "#### It is large dataset so let's see it's dimensions "
   ]
  },
  {
   "cell_type": "code",
   "execution_count": 20,
   "metadata": {},
   "outputs": [
    {
     "data": {
      "text/plain": [
       "(325, 17)"
      ]
     },
     "execution_count": 20,
     "metadata": {},
     "output_type": "execute_result"
    }
   ],
   "source": [
    "df_new.shape"
   ]
  },
  {
   "cell_type": "markdown",
   "metadata": {},
   "source": [
    "#### It has 325 rows and 17 columns. So, let's remove the unncessary columns first"
   ]
  },
  {
   "cell_type": "code",
   "execution_count": 21,
   "metadata": {},
   "outputs": [],
   "source": [
    "df_new = df_new.drop(['FID', 'RoadSuffix','CampusCode','VicgovRegi','State','Type','ServiceNam','OpsName'], axis=1)"
   ]
  },
  {
   "cell_type": "markdown",
   "metadata": {},
   "source": [
    "#### After removing the columns let's have a look at the new dataframe"
   ]
  },
  {
   "cell_type": "code",
   "execution_count": 22,
   "metadata": {},
   "outputs": [
    {
     "data": {
      "text/html": [
       "<div>\n",
       "<style scoped>\n",
       "    .dataframe tbody tr th:only-of-type {\n",
       "        vertical-align: middle;\n",
       "    }\n",
       "\n",
       "    .dataframe tbody tr th {\n",
       "        vertical-align: top;\n",
       "    }\n",
       "\n",
       "    .dataframe thead th {\n",
       "        text-align: right;\n",
       "    }\n",
       "</style>\n",
       "<table border=\"1\" class=\"dataframe\">\n",
       "  <thead>\n",
       "    <tr style=\"text-align: right;\">\n",
       "      <th></th>\n",
       "      <th>X</th>\n",
       "      <th>Y</th>\n",
       "      <th>LabelName</th>\n",
       "      <th>StreetNum</th>\n",
       "      <th>RoadName</th>\n",
       "      <th>RoadType</th>\n",
       "      <th>LGAName</th>\n",
       "      <th>LocalityNa</th>\n",
       "      <th>Postcode</th>\n",
       "    </tr>\n",
       "  </thead>\n",
       "  <tbody>\n",
       "    <tr>\n",
       "      <th>0</th>\n",
       "      <td>144.983399</td>\n",
       "      <td>-37.809681</td>\n",
       "      <td>East Melbourne Specialist Day Hospital</td>\n",
       "      <td>23</td>\n",
       "      <td>CLARENDON</td>\n",
       "      <td>STREET</td>\n",
       "      <td>MELBOURNE</td>\n",
       "      <td></td>\n",
       "      <td>3002</td>\n",
       "    </tr>\n",
       "    <tr>\n",
       "      <th>1</th>\n",
       "      <td>145.149300</td>\n",
       "      <td>-37.951400</td>\n",
       "      <td>Windsor Avenue Day Surgery</td>\n",
       "      <td>17</td>\n",
       "      <td>WINDSOR</td>\n",
       "      <td>AVENUE</td>\n",
       "      <td>GREATER DANDENONG</td>\n",
       "      <td></td>\n",
       "      <td>3171</td>\n",
       "    </tr>\n",
       "    <tr>\n",
       "      <th>2</th>\n",
       "      <td>145.344653</td>\n",
       "      <td>-38.034580</td>\n",
       "      <td>Hyperbaric Health Wound Centre Berwick</td>\n",
       "      <td>3</td>\n",
       "      <td>GIBB</td>\n",
       "      <td>STREET</td>\n",
       "      <td>CASEY</td>\n",
       "      <td></td>\n",
       "      <td>3806</td>\n",
       "    </tr>\n",
       "    <tr>\n",
       "      <th>3</th>\n",
       "      <td>143.832286</td>\n",
       "      <td>-37.540553</td>\n",
       "      <td>Ballarat Day Procedure Centre</td>\n",
       "      <td>1117-1123</td>\n",
       "      <td>HOWITT</td>\n",
       "      <td>STREET</td>\n",
       "      <td>BALLARAT</td>\n",
       "      <td></td>\n",
       "      <td>3355</td>\n",
       "    </tr>\n",
       "    <tr>\n",
       "      <th>4</th>\n",
       "      <td>145.143379</td>\n",
       "      <td>-38.148189</td>\n",
       "      <td>Bayside Day Procedure and Specialist Centre</td>\n",
       "      <td>141</td>\n",
       "      <td>CRANBOURNE</td>\n",
       "      <td>ROAD</td>\n",
       "      <td>FRANKSTON</td>\n",
       "      <td></td>\n",
       "      <td>3199</td>\n",
       "    </tr>\n",
       "  </tbody>\n",
       "</table>\n",
       "</div>"
      ],
      "text/plain": [
       "            X          Y                                    LabelName  \\\n",
       "0  144.983399 -37.809681       East Melbourne Specialist Day Hospital   \n",
       "1  145.149300 -37.951400                   Windsor Avenue Day Surgery   \n",
       "2  145.344653 -38.034580       Hyperbaric Health Wound Centre Berwick   \n",
       "3  143.832286 -37.540553                Ballarat Day Procedure Centre   \n",
       "4  145.143379 -38.148189  Bayside Day Procedure and Specialist Centre   \n",
       "\n",
       "   StreetNum    RoadName RoadType            LGAName LocalityNa  Postcode  \n",
       "0         23   CLARENDON   STREET          MELBOURNE                 3002  \n",
       "1         17     WINDSOR   AVENUE  GREATER DANDENONG                 3171  \n",
       "2          3        GIBB   STREET              CASEY                 3806  \n",
       "3  1117-1123      HOWITT   STREET           BALLARAT                 3355  \n",
       "4        141  CRANBOURNE     ROAD          FRANKSTON                 3199  "
      ]
     },
     "execution_count": 22,
     "metadata": {},
     "output_type": "execute_result"
    }
   ],
   "source": [
    "df_new.head()"
   ]
  },
  {
   "cell_type": "markdown",
   "metadata": {},
   "source": [
    "#### The next step is to rename the column 'LabelName' to 'HospitalName' to match the previous dataset"
   ]
  },
  {
   "cell_type": "code",
   "execution_count": 23,
   "metadata": {},
   "outputs": [],
   "source": [
    "df_new = df_new.rename(columns={'LabelName': 'HospitalName'})"
   ]
  },
  {
   "cell_type": "markdown",
   "metadata": {},
   "source": [
    "#### Up next, let's sort the dataframe according to the Hospital names"
   ]
  },
  {
   "cell_type": "code",
   "execution_count": 24,
   "metadata": {},
   "outputs": [],
   "source": [
    "df_new.sort_values(by=['HospitalName'], inplace=True)"
   ]
  },
  {
   "cell_type": "code",
   "execution_count": 25,
   "metadata": {},
   "outputs": [
    {
     "data": {
      "text/html": [
       "<div>\n",
       "<style scoped>\n",
       "    .dataframe tbody tr th:only-of-type {\n",
       "        vertical-align: middle;\n",
       "    }\n",
       "\n",
       "    .dataframe tbody tr th {\n",
       "        vertical-align: top;\n",
       "    }\n",
       "\n",
       "    .dataframe thead th {\n",
       "        text-align: right;\n",
       "    }\n",
       "</style>\n",
       "<table border=\"1\" class=\"dataframe\">\n",
       "  <thead>\n",
       "    <tr style=\"text-align: right;\">\n",
       "      <th></th>\n",
       "      <th>X</th>\n",
       "      <th>Y</th>\n",
       "      <th>HospitalName</th>\n",
       "      <th>StreetNum</th>\n",
       "      <th>RoadName</th>\n",
       "      <th>RoadType</th>\n",
       "      <th>LGAName</th>\n",
       "      <th>LocalityNa</th>\n",
       "      <th>Postcode</th>\n",
       "    </tr>\n",
       "  </thead>\n",
       "  <tbody>\n",
       "    <tr>\n",
       "      <th>93</th>\n",
       "      <td>144.972137</td>\n",
       "      <td>-37.834298</td>\n",
       "      <td>Albert Road Clinic</td>\n",
       "      <td>31-33</td>\n",
       "      <td>ALBERT</td>\n",
       "      <td>ROAD</td>\n",
       "      <td>PORT PHILLIP</td>\n",
       "      <td></td>\n",
       "      <td>3004</td>\n",
       "    </tr>\n",
       "    <tr>\n",
       "      <th>319</th>\n",
       "      <td>146.939700</td>\n",
       "      <td>-36.078500</td>\n",
       "      <td>Albury Wodonga Health (Albury)</td>\n",
       "      <td>201</td>\n",
       "      <td>BORELLA</td>\n",
       "      <td>ROAD</td>\n",
       "      <td>Albury (C)</td>\n",
       "      <td>EAST ALBURY (NSW)</td>\n",
       "      <td>2640</td>\n",
       "    </tr>\n",
       "    <tr>\n",
       "      <th>311</th>\n",
       "      <td>146.879500</td>\n",
       "      <td>-36.131800</td>\n",
       "      <td>Albury Wodonga Health (Wodonga)</td>\n",
       "      <td>53-81</td>\n",
       "      <td>VERMONT</td>\n",
       "      <td>STREET</td>\n",
       "      <td>Wodonga (RC)</td>\n",
       "      <td>WODONGA</td>\n",
       "      <td>3690</td>\n",
       "    </tr>\n",
       "    <tr>\n",
       "      <th>202</th>\n",
       "      <td>145.716100</td>\n",
       "      <td>-37.195300</td>\n",
       "      <td>Alexandra District Hospital</td>\n",
       "      <td>12</td>\n",
       "      <td>COOPER</td>\n",
       "      <td>STREET</td>\n",
       "      <td>Murrindindi (S)</td>\n",
       "      <td>ALEXANDRA</td>\n",
       "      <td>3714</td>\n",
       "    </tr>\n",
       "    <tr>\n",
       "      <th>203</th>\n",
       "      <td>146.966100</td>\n",
       "      <td>-36.733000</td>\n",
       "      <td>Alpine Health (Bright)</td>\n",
       "      <td>36-42</td>\n",
       "      <td>COBDEN</td>\n",
       "      <td>STREET</td>\n",
       "      <td>Alpine (S)</td>\n",
       "      <td>BRIGHT</td>\n",
       "      <td>3741</td>\n",
       "    </tr>\n",
       "  </tbody>\n",
       "</table>\n",
       "</div>"
      ],
      "text/plain": [
       "              X          Y                     HospitalName StreetNum  \\\n",
       "93   144.972137 -37.834298               Albert Road Clinic     31-33   \n",
       "319  146.939700 -36.078500   Albury Wodonga Health (Albury)       201   \n",
       "311  146.879500 -36.131800  Albury Wodonga Health (Wodonga)     53-81   \n",
       "202  145.716100 -37.195300      Alexandra District Hospital        12   \n",
       "203  146.966100 -36.733000           Alpine Health (Bright)     36-42   \n",
       "\n",
       "    RoadName RoadType          LGAName         LocalityNa  Postcode  \n",
       "93    ALBERT     ROAD     PORT PHILLIP                         3004  \n",
       "319  BORELLA     ROAD       Albury (C)  EAST ALBURY (NSW)      2640  \n",
       "311  VERMONT   STREET     Wodonga (RC)            WODONGA      3690  \n",
       "202   COOPER   STREET  Murrindindi (S)          ALEXANDRA      3714  \n",
       "203   COBDEN   STREET       Alpine (S)             BRIGHT      3741  "
      ]
     },
     "execution_count": 25,
     "metadata": {},
     "output_type": "execute_result"
    }
   ],
   "source": [
    "df_new.head()"
   ]
  },
  {
   "cell_type": "markdown",
   "metadata": {},
   "source": [
    "#### Reset the index of the dataframe"
   ]
  },
  {
   "cell_type": "code",
   "execution_count": 26,
   "metadata": {},
   "outputs": [],
   "source": [
    "df_new = df_new.reset_index(drop=True)"
   ]
  },
  {
   "cell_type": "code",
   "execution_count": 27,
   "metadata": {},
   "outputs": [
    {
     "data": {
      "text/html": [
       "<div>\n",
       "<style scoped>\n",
       "    .dataframe tbody tr th:only-of-type {\n",
       "        vertical-align: middle;\n",
       "    }\n",
       "\n",
       "    .dataframe tbody tr th {\n",
       "        vertical-align: top;\n",
       "    }\n",
       "\n",
       "    .dataframe thead th {\n",
       "        text-align: right;\n",
       "    }\n",
       "</style>\n",
       "<table border=\"1\" class=\"dataframe\">\n",
       "  <thead>\n",
       "    <tr style=\"text-align: right;\">\n",
       "      <th></th>\n",
       "      <th>X</th>\n",
       "      <th>Y</th>\n",
       "      <th>HospitalName</th>\n",
       "      <th>StreetNum</th>\n",
       "      <th>RoadName</th>\n",
       "      <th>RoadType</th>\n",
       "      <th>LGAName</th>\n",
       "      <th>LocalityNa</th>\n",
       "      <th>Postcode</th>\n",
       "    </tr>\n",
       "  </thead>\n",
       "  <tbody>\n",
       "    <tr>\n",
       "      <th>0</th>\n",
       "      <td>144.972137</td>\n",
       "      <td>-37.834298</td>\n",
       "      <td>Albert Road Clinic</td>\n",
       "      <td>31-33</td>\n",
       "      <td>ALBERT</td>\n",
       "      <td>ROAD</td>\n",
       "      <td>PORT PHILLIP</td>\n",
       "      <td></td>\n",
       "      <td>3004</td>\n",
       "    </tr>\n",
       "    <tr>\n",
       "      <th>1</th>\n",
       "      <td>146.939700</td>\n",
       "      <td>-36.078500</td>\n",
       "      <td>Albury Wodonga Health (Albury)</td>\n",
       "      <td>201</td>\n",
       "      <td>BORELLA</td>\n",
       "      <td>ROAD</td>\n",
       "      <td>Albury (C)</td>\n",
       "      <td>EAST ALBURY (NSW)</td>\n",
       "      <td>2640</td>\n",
       "    </tr>\n",
       "    <tr>\n",
       "      <th>2</th>\n",
       "      <td>146.879500</td>\n",
       "      <td>-36.131800</td>\n",
       "      <td>Albury Wodonga Health (Wodonga)</td>\n",
       "      <td>53-81</td>\n",
       "      <td>VERMONT</td>\n",
       "      <td>STREET</td>\n",
       "      <td>Wodonga (RC)</td>\n",
       "      <td>WODONGA</td>\n",
       "      <td>3690</td>\n",
       "    </tr>\n",
       "    <tr>\n",
       "      <th>3</th>\n",
       "      <td>145.716100</td>\n",
       "      <td>-37.195300</td>\n",
       "      <td>Alexandra District Hospital</td>\n",
       "      <td>12</td>\n",
       "      <td>COOPER</td>\n",
       "      <td>STREET</td>\n",
       "      <td>Murrindindi (S)</td>\n",
       "      <td>ALEXANDRA</td>\n",
       "      <td>3714</td>\n",
       "    </tr>\n",
       "    <tr>\n",
       "      <th>4</th>\n",
       "      <td>146.966100</td>\n",
       "      <td>-36.733000</td>\n",
       "      <td>Alpine Health (Bright)</td>\n",
       "      <td>36-42</td>\n",
       "      <td>COBDEN</td>\n",
       "      <td>STREET</td>\n",
       "      <td>Alpine (S)</td>\n",
       "      <td>BRIGHT</td>\n",
       "      <td>3741</td>\n",
       "    </tr>\n",
       "  </tbody>\n",
       "</table>\n",
       "</div>"
      ],
      "text/plain": [
       "            X          Y                     HospitalName StreetNum RoadName  \\\n",
       "0  144.972137 -37.834298               Albert Road Clinic     31-33   ALBERT   \n",
       "1  146.939700 -36.078500   Albury Wodonga Health (Albury)       201  BORELLA   \n",
       "2  146.879500 -36.131800  Albury Wodonga Health (Wodonga)     53-81  VERMONT   \n",
       "3  145.716100 -37.195300      Alexandra District Hospital        12   COOPER   \n",
       "4  146.966100 -36.733000           Alpine Health (Bright)     36-42   COBDEN   \n",
       "\n",
       "  RoadType          LGAName         LocalityNa  Postcode  \n",
       "0     ROAD     PORT PHILLIP                         3004  \n",
       "1     ROAD       Albury (C)  EAST ALBURY (NSW)      2640  \n",
       "2   STREET     Wodonga (RC)            WODONGA      3690  \n",
       "3   STREET  Murrindindi (S)          ALEXANDRA      3714  \n",
       "4   STREET       Alpine (S)             BRIGHT      3741  "
      ]
     },
     "execution_count": 27,
     "metadata": {},
     "output_type": "execute_result"
    }
   ],
   "source": [
    "df_new.head()"
   ]
  },
  {
   "cell_type": "markdown",
   "metadata": {},
   "source": [
    "#### In the next step, I will run some code to remove the extra names in the Brackets from the HospitalName column by using regular expressions."
   ]
  },
  {
   "cell_type": "code",
   "execution_count": 28,
   "metadata": {},
   "outputs": [],
   "source": [
    "for index,value in enumerate(df_new.HospitalName):\n",
    "    new_value = re.sub(r\"\\(.*\\)\",\"\",value)\n",
    "    df_new.HospitalName[index] = new_value"
   ]
  },
  {
   "cell_type": "code",
   "execution_count": 29,
   "metadata": {},
   "outputs": [
    {
     "data": {
      "text/html": [
       "<div>\n",
       "<style scoped>\n",
       "    .dataframe tbody tr th:only-of-type {\n",
       "        vertical-align: middle;\n",
       "    }\n",
       "\n",
       "    .dataframe tbody tr th {\n",
       "        vertical-align: top;\n",
       "    }\n",
       "\n",
       "    .dataframe thead th {\n",
       "        text-align: right;\n",
       "    }\n",
       "</style>\n",
       "<table border=\"1\" class=\"dataframe\">\n",
       "  <thead>\n",
       "    <tr style=\"text-align: right;\">\n",
       "      <th></th>\n",
       "      <th>X</th>\n",
       "      <th>Y</th>\n",
       "      <th>HospitalName</th>\n",
       "      <th>StreetNum</th>\n",
       "      <th>RoadName</th>\n",
       "      <th>RoadType</th>\n",
       "      <th>LGAName</th>\n",
       "      <th>LocalityNa</th>\n",
       "      <th>Postcode</th>\n",
       "    </tr>\n",
       "  </thead>\n",
       "  <tbody>\n",
       "    <tr>\n",
       "      <th>0</th>\n",
       "      <td>144.972137</td>\n",
       "      <td>-37.834298</td>\n",
       "      <td>Albert Road Clinic</td>\n",
       "      <td>31-33</td>\n",
       "      <td>ALBERT</td>\n",
       "      <td>ROAD</td>\n",
       "      <td>PORT PHILLIP</td>\n",
       "      <td></td>\n",
       "      <td>3004</td>\n",
       "    </tr>\n",
       "    <tr>\n",
       "      <th>1</th>\n",
       "      <td>146.939700</td>\n",
       "      <td>-36.078500</td>\n",
       "      <td>Albury Wodonga Health</td>\n",
       "      <td>201</td>\n",
       "      <td>BORELLA</td>\n",
       "      <td>ROAD</td>\n",
       "      <td>Albury (C)</td>\n",
       "      <td>EAST ALBURY (NSW)</td>\n",
       "      <td>2640</td>\n",
       "    </tr>\n",
       "    <tr>\n",
       "      <th>2</th>\n",
       "      <td>146.879500</td>\n",
       "      <td>-36.131800</td>\n",
       "      <td>Albury Wodonga Health</td>\n",
       "      <td>53-81</td>\n",
       "      <td>VERMONT</td>\n",
       "      <td>STREET</td>\n",
       "      <td>Wodonga (RC)</td>\n",
       "      <td>WODONGA</td>\n",
       "      <td>3690</td>\n",
       "    </tr>\n",
       "    <tr>\n",
       "      <th>3</th>\n",
       "      <td>145.716100</td>\n",
       "      <td>-37.195300</td>\n",
       "      <td>Alexandra District Hospital</td>\n",
       "      <td>12</td>\n",
       "      <td>COOPER</td>\n",
       "      <td>STREET</td>\n",
       "      <td>Murrindindi (S)</td>\n",
       "      <td>ALEXANDRA</td>\n",
       "      <td>3714</td>\n",
       "    </tr>\n",
       "    <tr>\n",
       "      <th>4</th>\n",
       "      <td>146.966100</td>\n",
       "      <td>-36.733000</td>\n",
       "      <td>Alpine Health</td>\n",
       "      <td>36-42</td>\n",
       "      <td>COBDEN</td>\n",
       "      <td>STREET</td>\n",
       "      <td>Alpine (S)</td>\n",
       "      <td>BRIGHT</td>\n",
       "      <td>3741</td>\n",
       "    </tr>\n",
       "  </tbody>\n",
       "</table>\n",
       "</div>"
      ],
      "text/plain": [
       "            X          Y                 HospitalName StreetNum RoadName  \\\n",
       "0  144.972137 -37.834298           Albert Road Clinic     31-33   ALBERT   \n",
       "1  146.939700 -36.078500       Albury Wodonga Health        201  BORELLA   \n",
       "2  146.879500 -36.131800       Albury Wodonga Health      53-81  VERMONT   \n",
       "3  145.716100 -37.195300  Alexandra District Hospital        12   COOPER   \n",
       "4  146.966100 -36.733000               Alpine Health      36-42   COBDEN   \n",
       "\n",
       "  RoadType          LGAName         LocalityNa  Postcode  \n",
       "0     ROAD     PORT PHILLIP                         3004  \n",
       "1     ROAD       Albury (C)  EAST ALBURY (NSW)      2640  \n",
       "2   STREET     Wodonga (RC)            WODONGA      3690  \n",
       "3   STREET  Murrindindi (S)          ALEXANDRA      3714  \n",
       "4   STREET       Alpine (S)             BRIGHT      3741  "
      ]
     },
     "execution_count": 29,
     "metadata": {},
     "output_type": "execute_result"
    }
   ],
   "source": [
    "df_new.head()"
   ]
  },
  {
   "cell_type": "markdown",
   "metadata": {},
   "source": [
    "#### There are some empty spaces in the names of the Hospital. Let's remove the empty spaces from the beginning and end part"
   ]
  },
  {
   "cell_type": "code",
   "execution_count": 30,
   "metadata": {},
   "outputs": [],
   "source": [
    "for index,value in enumerate(df_new.HospitalName):\n",
    "    new_value = value.strip()\n",
    "    df_new.HospitalName[index] = new_value"
   ]
  },
  {
   "cell_type": "markdown",
   "metadata": {},
   "source": [
    "#### Similarly, do the same in the earlier dataset"
   ]
  },
  {
   "cell_type": "code",
   "execution_count": 31,
   "metadata": {},
   "outputs": [],
   "source": [
    "for index,value in enumerate(df.HospitalName):\n",
    "    new_value = value.strip()\n",
    "    df.HospitalName[index] = new_value"
   ]
  },
  {
   "cell_type": "markdown",
   "metadata": {},
   "source": [
    "#### Now, let's merge the two datasets on the columns 'HospitalName' and 'Postcode' to get one large dataset named hospital"
   ]
  },
  {
   "cell_type": "code",
   "execution_count": 32,
   "metadata": {},
   "outputs": [],
   "source": [
    "hospital = pd.merge(df_new,df, on=['HospitalName','Postcode'], how = 'left')"
   ]
  },
  {
   "cell_type": "markdown",
   "metadata": {},
   "source": [
    "#### Left outer join has been implemented. Now, Let's look at the tail of the newly created dataframe"
   ]
  },
  {
   "cell_type": "code",
   "execution_count": 33,
   "metadata": {},
   "outputs": [
    {
     "data": {
      "text/html": [
       "<div>\n",
       "<style scoped>\n",
       "    .dataframe tbody tr th:only-of-type {\n",
       "        vertical-align: middle;\n",
       "    }\n",
       "\n",
       "    .dataframe tbody tr th {\n",
       "        vertical-align: top;\n",
       "    }\n",
       "\n",
       "    .dataframe thead th {\n",
       "        text-align: right;\n",
       "    }\n",
       "</style>\n",
       "<table border=\"1\" class=\"dataframe\">\n",
       "  <thead>\n",
       "    <tr style=\"text-align: right;\">\n",
       "      <th></th>\n",
       "      <th>X</th>\n",
       "      <th>Y</th>\n",
       "      <th>HospitalName</th>\n",
       "      <th>StreetNum</th>\n",
       "      <th>RoadName</th>\n",
       "      <th>RoadType</th>\n",
       "      <th>LGAName</th>\n",
       "      <th>LocalityNa</th>\n",
       "      <th>Postcode</th>\n",
       "      <th>Telephone</th>\n",
       "    </tr>\n",
       "  </thead>\n",
       "  <tbody>\n",
       "    <tr>\n",
       "      <th>320</th>\n",
       "      <td>144.700757</td>\n",
       "      <td>-37.887037</td>\n",
       "      <td>Wyndham Clinic</td>\n",
       "      <td>242A</td>\n",
       "      <td>HOPPERS</td>\n",
       "      <td>LANE</td>\n",
       "      <td>WYNDHAM</td>\n",
       "      <td></td>\n",
       "      <td>3030</td>\n",
       "      <td>NaN</td>\n",
       "    </tr>\n",
       "    <tr>\n",
       "      <th>321</th>\n",
       "      <td>145.351400</td>\n",
       "      <td>-37.756600</td>\n",
       "      <td>Yarra Ranges Health</td>\n",
       "      <td>25</td>\n",
       "      <td>MARKET</td>\n",
       "      <td>STREET</td>\n",
       "      <td>Yarra Ranges (S)</td>\n",
       "      <td>LILYDALE</td>\n",
       "      <td>3140</td>\n",
       "      <td>03 9091 8888</td>\n",
       "    </tr>\n",
       "    <tr>\n",
       "      <th>322</th>\n",
       "      <td>146.678100</td>\n",
       "      <td>-38.557100</td>\n",
       "      <td>Yarram and District Health Service</td>\n",
       "      <td>85-91</td>\n",
       "      <td>COMMERCIAL</td>\n",
       "      <td>ROAD</td>\n",
       "      <td>Wellington (S)</td>\n",
       "      <td>YARRAM</td>\n",
       "      <td>3971</td>\n",
       "      <td>03 5182 0222</td>\n",
       "    </tr>\n",
       "    <tr>\n",
       "      <th>323</th>\n",
       "      <td>146.006833</td>\n",
       "      <td>-36.011198</td>\n",
       "      <td>Yarrawonga Health</td>\n",
       "      <td>33</td>\n",
       "      <td>PIPER</td>\n",
       "      <td>STREET</td>\n",
       "      <td>Moira (S)</td>\n",
       "      <td>YARRAWONGA</td>\n",
       "      <td>3730</td>\n",
       "      <td>03 5743 8111</td>\n",
       "    </tr>\n",
       "    <tr>\n",
       "      <th>324</th>\n",
       "      <td>145.431300</td>\n",
       "      <td>-37.213900</td>\n",
       "      <td>Yea and District Memorial Hospital</td>\n",
       "      <td>45</td>\n",
       "      <td>STATION</td>\n",
       "      <td>STREET</td>\n",
       "      <td>Murrindindi (S)</td>\n",
       "      <td>YEA</td>\n",
       "      <td>3717</td>\n",
       "      <td>03 5736 0400</td>\n",
       "    </tr>\n",
       "  </tbody>\n",
       "</table>\n",
       "</div>"
      ],
      "text/plain": [
       "              X          Y                        HospitalName StreetNum  \\\n",
       "320  144.700757 -37.887037                      Wyndham Clinic      242A   \n",
       "321  145.351400 -37.756600                 Yarra Ranges Health        25   \n",
       "322  146.678100 -38.557100  Yarram and District Health Service     85-91   \n",
       "323  146.006833 -36.011198                   Yarrawonga Health        33   \n",
       "324  145.431300 -37.213900  Yea and District Memorial Hospital        45   \n",
       "\n",
       "       RoadName RoadType           LGAName  LocalityNa  Postcode     Telephone  \n",
       "320     HOPPERS     LANE           WYNDHAM                  3030           NaN  \n",
       "321      MARKET   STREET  Yarra Ranges (S)    LILYDALE      3140  03 9091 8888  \n",
       "322  COMMERCIAL     ROAD    Wellington (S)      YARRAM      3971  03 5182 0222  \n",
       "323       PIPER   STREET         Moira (S)  YARRAWONGA      3730  03 5743 8111  \n",
       "324     STATION   STREET   Murrindindi (S)         YEA      3717  03 5736 0400  "
      ]
     },
     "execution_count": 33,
     "metadata": {},
     "output_type": "execute_result"
    }
   ],
   "source": [
    "hospital.tail()"
   ]
  },
  {
   "cell_type": "markdown",
   "metadata": {},
   "source": [
    "### The columns 'LGAName' and 'LocalityNa' mainly means the suburb names of the Hospitals. The 'LocalityNa'  column is more accurate than the LGAName. Therefore I will replace the value of LGAName column with non null LocalityNa values"
   ]
  },
  {
   "cell_type": "code",
   "execution_count": 34,
   "metadata": {},
   "outputs": [],
   "source": [
    "locality_index = []\n",
    "for index,value in enumerate(hospital.LocalityNa):\n",
    "    if value != \" \":\n",
    "        locality_index.append(index)"
   ]
  },
  {
   "cell_type": "code",
   "execution_count": 35,
   "metadata": {},
   "outputs": [],
   "source": [
    "for each in locality_index:\n",
    "    hospital.LGAName[each] = hospital.LocalityNa[each]"
   ]
  },
  {
   "cell_type": "markdown",
   "metadata": {},
   "source": [
    "#### Let's have a look into the new dataframe"
   ]
  },
  {
   "cell_type": "code",
   "execution_count": 36,
   "metadata": {},
   "outputs": [
    {
     "data": {
      "text/html": [
       "<div>\n",
       "<style scoped>\n",
       "    .dataframe tbody tr th:only-of-type {\n",
       "        vertical-align: middle;\n",
       "    }\n",
       "\n",
       "    .dataframe tbody tr th {\n",
       "        vertical-align: top;\n",
       "    }\n",
       "\n",
       "    .dataframe thead th {\n",
       "        text-align: right;\n",
       "    }\n",
       "</style>\n",
       "<table border=\"1\" class=\"dataframe\">\n",
       "  <thead>\n",
       "    <tr style=\"text-align: right;\">\n",
       "      <th></th>\n",
       "      <th>X</th>\n",
       "      <th>Y</th>\n",
       "      <th>HospitalName</th>\n",
       "      <th>StreetNum</th>\n",
       "      <th>RoadName</th>\n",
       "      <th>RoadType</th>\n",
       "      <th>LGAName</th>\n",
       "      <th>LocalityNa</th>\n",
       "      <th>Postcode</th>\n",
       "      <th>Telephone</th>\n",
       "    </tr>\n",
       "  </thead>\n",
       "  <tbody>\n",
       "    <tr>\n",
       "      <th>320</th>\n",
       "      <td>144.700757</td>\n",
       "      <td>-37.887037</td>\n",
       "      <td>Wyndham Clinic</td>\n",
       "      <td>242A</td>\n",
       "      <td>HOPPERS</td>\n",
       "      <td>LANE</td>\n",
       "      <td>WYNDHAM</td>\n",
       "      <td></td>\n",
       "      <td>3030</td>\n",
       "      <td>NaN</td>\n",
       "    </tr>\n",
       "    <tr>\n",
       "      <th>321</th>\n",
       "      <td>145.351400</td>\n",
       "      <td>-37.756600</td>\n",
       "      <td>Yarra Ranges Health</td>\n",
       "      <td>25</td>\n",
       "      <td>MARKET</td>\n",
       "      <td>STREET</td>\n",
       "      <td>LILYDALE</td>\n",
       "      <td>LILYDALE</td>\n",
       "      <td>3140</td>\n",
       "      <td>03 9091 8888</td>\n",
       "    </tr>\n",
       "    <tr>\n",
       "      <th>322</th>\n",
       "      <td>146.678100</td>\n",
       "      <td>-38.557100</td>\n",
       "      <td>Yarram and District Health Service</td>\n",
       "      <td>85-91</td>\n",
       "      <td>COMMERCIAL</td>\n",
       "      <td>ROAD</td>\n",
       "      <td>YARRAM</td>\n",
       "      <td>YARRAM</td>\n",
       "      <td>3971</td>\n",
       "      <td>03 5182 0222</td>\n",
       "    </tr>\n",
       "    <tr>\n",
       "      <th>323</th>\n",
       "      <td>146.006833</td>\n",
       "      <td>-36.011198</td>\n",
       "      <td>Yarrawonga Health</td>\n",
       "      <td>33</td>\n",
       "      <td>PIPER</td>\n",
       "      <td>STREET</td>\n",
       "      <td>YARRAWONGA</td>\n",
       "      <td>YARRAWONGA</td>\n",
       "      <td>3730</td>\n",
       "      <td>03 5743 8111</td>\n",
       "    </tr>\n",
       "    <tr>\n",
       "      <th>324</th>\n",
       "      <td>145.431300</td>\n",
       "      <td>-37.213900</td>\n",
       "      <td>Yea and District Memorial Hospital</td>\n",
       "      <td>45</td>\n",
       "      <td>STATION</td>\n",
       "      <td>STREET</td>\n",
       "      <td>YEA</td>\n",
       "      <td>YEA</td>\n",
       "      <td>3717</td>\n",
       "      <td>03 5736 0400</td>\n",
       "    </tr>\n",
       "  </tbody>\n",
       "</table>\n",
       "</div>"
      ],
      "text/plain": [
       "              X          Y                        HospitalName StreetNum  \\\n",
       "320  144.700757 -37.887037                      Wyndham Clinic      242A   \n",
       "321  145.351400 -37.756600                 Yarra Ranges Health        25   \n",
       "322  146.678100 -38.557100  Yarram and District Health Service     85-91   \n",
       "323  146.006833 -36.011198                   Yarrawonga Health        33   \n",
       "324  145.431300 -37.213900  Yea and District Memorial Hospital        45   \n",
       "\n",
       "       RoadName RoadType     LGAName  LocalityNa  Postcode     Telephone  \n",
       "320     HOPPERS     LANE     WYNDHAM                  3030           NaN  \n",
       "321      MARKET   STREET    LILYDALE    LILYDALE      3140  03 9091 8888  \n",
       "322  COMMERCIAL     ROAD      YARRAM      YARRAM      3971  03 5182 0222  \n",
       "323       PIPER   STREET  YARRAWONGA  YARRAWONGA      3730  03 5743 8111  \n",
       "324     STATION   STREET         YEA         YEA      3717  03 5736 0400  "
      ]
     },
     "execution_count": 36,
     "metadata": {},
     "output_type": "execute_result"
    }
   ],
   "source": [
    "hospital.tail()"
   ]
  },
  {
   "cell_type": "markdown",
   "metadata": {},
   "source": [
    "### Lastly, I will make a new column named Address which will have the address of each hospital in a correct format."
   ]
  },
  {
   "cell_type": "markdown",
   "metadata": {},
   "source": [
    "####  The correct format should be - StreetNum+RoadName+RoadType+LGAName"
   ]
  },
  {
   "cell_type": "code",
   "execution_count": 37,
   "metadata": {},
   "outputs": [],
   "source": [
    "address = []\n",
    "for each in range(len(hospital)):\n",
    "    add = hospital.StreetNum[each]+\" \"+hospital.RoadName[each]+\" \"+hospital.RoadType[each]+\",\"+hospital.LGAName[each]\n",
    "    address.append(add)"
   ]
  },
  {
   "cell_type": "markdown",
   "metadata": {},
   "source": [
    "#### Add the created list as Address column in the hospital dataframe"
   ]
  },
  {
   "cell_type": "code",
   "execution_count": 38,
   "metadata": {},
   "outputs": [],
   "source": [
    "hospital['Address']=address"
   ]
  },
  {
   "cell_type": "markdown",
   "metadata": {},
   "source": [
    "#### Let's have a look at the dataframe"
   ]
  },
  {
   "cell_type": "code",
   "execution_count": 39,
   "metadata": {},
   "outputs": [
    {
     "data": {
      "text/html": [
       "<div>\n",
       "<style scoped>\n",
       "    .dataframe tbody tr th:only-of-type {\n",
       "        vertical-align: middle;\n",
       "    }\n",
       "\n",
       "    .dataframe tbody tr th {\n",
       "        vertical-align: top;\n",
       "    }\n",
       "\n",
       "    .dataframe thead th {\n",
       "        text-align: right;\n",
       "    }\n",
       "</style>\n",
       "<table border=\"1\" class=\"dataframe\">\n",
       "  <thead>\n",
       "    <tr style=\"text-align: right;\">\n",
       "      <th></th>\n",
       "      <th>X</th>\n",
       "      <th>Y</th>\n",
       "      <th>HospitalName</th>\n",
       "      <th>StreetNum</th>\n",
       "      <th>RoadName</th>\n",
       "      <th>RoadType</th>\n",
       "      <th>LGAName</th>\n",
       "      <th>LocalityNa</th>\n",
       "      <th>Postcode</th>\n",
       "      <th>Telephone</th>\n",
       "      <th>Address</th>\n",
       "    </tr>\n",
       "  </thead>\n",
       "  <tbody>\n",
       "    <tr>\n",
       "      <th>320</th>\n",
       "      <td>144.700757</td>\n",
       "      <td>-37.887037</td>\n",
       "      <td>Wyndham Clinic</td>\n",
       "      <td>242A</td>\n",
       "      <td>HOPPERS</td>\n",
       "      <td>LANE</td>\n",
       "      <td>WYNDHAM</td>\n",
       "      <td></td>\n",
       "      <td>3030</td>\n",
       "      <td>NaN</td>\n",
       "      <td>242A HOPPERS LANE,WYNDHAM</td>\n",
       "    </tr>\n",
       "    <tr>\n",
       "      <th>321</th>\n",
       "      <td>145.351400</td>\n",
       "      <td>-37.756600</td>\n",
       "      <td>Yarra Ranges Health</td>\n",
       "      <td>25</td>\n",
       "      <td>MARKET</td>\n",
       "      <td>STREET</td>\n",
       "      <td>LILYDALE</td>\n",
       "      <td>LILYDALE</td>\n",
       "      <td>3140</td>\n",
       "      <td>03 9091 8888</td>\n",
       "      <td>25 MARKET STREET,LILYDALE</td>\n",
       "    </tr>\n",
       "    <tr>\n",
       "      <th>322</th>\n",
       "      <td>146.678100</td>\n",
       "      <td>-38.557100</td>\n",
       "      <td>Yarram and District Health Service</td>\n",
       "      <td>85-91</td>\n",
       "      <td>COMMERCIAL</td>\n",
       "      <td>ROAD</td>\n",
       "      <td>YARRAM</td>\n",
       "      <td>YARRAM</td>\n",
       "      <td>3971</td>\n",
       "      <td>03 5182 0222</td>\n",
       "      <td>85-91 COMMERCIAL ROAD,YARRAM</td>\n",
       "    </tr>\n",
       "    <tr>\n",
       "      <th>323</th>\n",
       "      <td>146.006833</td>\n",
       "      <td>-36.011198</td>\n",
       "      <td>Yarrawonga Health</td>\n",
       "      <td>33</td>\n",
       "      <td>PIPER</td>\n",
       "      <td>STREET</td>\n",
       "      <td>YARRAWONGA</td>\n",
       "      <td>YARRAWONGA</td>\n",
       "      <td>3730</td>\n",
       "      <td>03 5743 8111</td>\n",
       "      <td>33 PIPER STREET,YARRAWONGA</td>\n",
       "    </tr>\n",
       "    <tr>\n",
       "      <th>324</th>\n",
       "      <td>145.431300</td>\n",
       "      <td>-37.213900</td>\n",
       "      <td>Yea and District Memorial Hospital</td>\n",
       "      <td>45</td>\n",
       "      <td>STATION</td>\n",
       "      <td>STREET</td>\n",
       "      <td>YEA</td>\n",
       "      <td>YEA</td>\n",
       "      <td>3717</td>\n",
       "      <td>03 5736 0400</td>\n",
       "      <td>45 STATION STREET,YEA</td>\n",
       "    </tr>\n",
       "  </tbody>\n",
       "</table>\n",
       "</div>"
      ],
      "text/plain": [
       "              X          Y                        HospitalName StreetNum  \\\n",
       "320  144.700757 -37.887037                      Wyndham Clinic      242A   \n",
       "321  145.351400 -37.756600                 Yarra Ranges Health        25   \n",
       "322  146.678100 -38.557100  Yarram and District Health Service     85-91   \n",
       "323  146.006833 -36.011198                   Yarrawonga Health        33   \n",
       "324  145.431300 -37.213900  Yea and District Memorial Hospital        45   \n",
       "\n",
       "       RoadName RoadType     LGAName  LocalityNa  Postcode     Telephone  \\\n",
       "320     HOPPERS     LANE     WYNDHAM                  3030           NaN   \n",
       "321      MARKET   STREET    LILYDALE    LILYDALE      3140  03 9091 8888   \n",
       "322  COMMERCIAL     ROAD      YARRAM      YARRAM      3971  03 5182 0222   \n",
       "323       PIPER   STREET  YARRAWONGA  YARRAWONGA      3730  03 5743 8111   \n",
       "324     STATION   STREET         YEA         YEA      3717  03 5736 0400   \n",
       "\n",
       "                          Address  \n",
       "320     242A HOPPERS LANE,WYNDHAM  \n",
       "321     25 MARKET STREET,LILYDALE  \n",
       "322  85-91 COMMERCIAL ROAD,YARRAM  \n",
       "323    33 PIPER STREET,YARRAWONGA  \n",
       "324         45 STATION STREET,YEA  "
      ]
     },
     "execution_count": 39,
     "metadata": {},
     "output_type": "execute_result"
    }
   ],
   "source": [
    "hospital.tail()"
   ]
  },
  {
   "cell_type": "markdown",
   "metadata": {},
   "source": [
    "#### Lastly, I will remove the redundant columns from the dataframe"
   ]
  },
  {
   "cell_type": "code",
   "execution_count": 40,
   "metadata": {},
   "outputs": [],
   "source": [
    "hospital = hospital.drop(['StreetNum','RoadName','RoadType','LocalityNa','LGAName'], axis=1)"
   ]
  },
  {
   "cell_type": "markdown",
   "metadata": {},
   "source": [
    "#### Let's have a look at the final dataframe"
   ]
  },
  {
   "cell_type": "code",
   "execution_count": 41,
   "metadata": {},
   "outputs": [
    {
     "data": {
      "text/html": [
       "<div>\n",
       "<style scoped>\n",
       "    .dataframe tbody tr th:only-of-type {\n",
       "        vertical-align: middle;\n",
       "    }\n",
       "\n",
       "    .dataframe tbody tr th {\n",
       "        vertical-align: top;\n",
       "    }\n",
       "\n",
       "    .dataframe thead th {\n",
       "        text-align: right;\n",
       "    }\n",
       "</style>\n",
       "<table border=\"1\" class=\"dataframe\">\n",
       "  <thead>\n",
       "    <tr style=\"text-align: right;\">\n",
       "      <th></th>\n",
       "      <th>X</th>\n",
       "      <th>Y</th>\n",
       "      <th>HospitalName</th>\n",
       "      <th>Postcode</th>\n",
       "      <th>Telephone</th>\n",
       "      <th>Address</th>\n",
       "    </tr>\n",
       "  </thead>\n",
       "  <tbody>\n",
       "    <tr>\n",
       "      <th>320</th>\n",
       "      <td>144.700757</td>\n",
       "      <td>-37.887037</td>\n",
       "      <td>Wyndham Clinic</td>\n",
       "      <td>3030</td>\n",
       "      <td>NaN</td>\n",
       "      <td>242A HOPPERS LANE,WYNDHAM</td>\n",
       "    </tr>\n",
       "    <tr>\n",
       "      <th>321</th>\n",
       "      <td>145.351400</td>\n",
       "      <td>-37.756600</td>\n",
       "      <td>Yarra Ranges Health</td>\n",
       "      <td>3140</td>\n",
       "      <td>03 9091 8888</td>\n",
       "      <td>25 MARKET STREET,LILYDALE</td>\n",
       "    </tr>\n",
       "    <tr>\n",
       "      <th>322</th>\n",
       "      <td>146.678100</td>\n",
       "      <td>-38.557100</td>\n",
       "      <td>Yarram and District Health Service</td>\n",
       "      <td>3971</td>\n",
       "      <td>03 5182 0222</td>\n",
       "      <td>85-91 COMMERCIAL ROAD,YARRAM</td>\n",
       "    </tr>\n",
       "    <tr>\n",
       "      <th>323</th>\n",
       "      <td>146.006833</td>\n",
       "      <td>-36.011198</td>\n",
       "      <td>Yarrawonga Health</td>\n",
       "      <td>3730</td>\n",
       "      <td>03 5743 8111</td>\n",
       "      <td>33 PIPER STREET,YARRAWONGA</td>\n",
       "    </tr>\n",
       "    <tr>\n",
       "      <th>324</th>\n",
       "      <td>145.431300</td>\n",
       "      <td>-37.213900</td>\n",
       "      <td>Yea and District Memorial Hospital</td>\n",
       "      <td>3717</td>\n",
       "      <td>03 5736 0400</td>\n",
       "      <td>45 STATION STREET,YEA</td>\n",
       "    </tr>\n",
       "  </tbody>\n",
       "</table>\n",
       "</div>"
      ],
      "text/plain": [
       "              X          Y                        HospitalName  Postcode  \\\n",
       "320  144.700757 -37.887037                      Wyndham Clinic      3030   \n",
       "321  145.351400 -37.756600                 Yarra Ranges Health      3140   \n",
       "322  146.678100 -38.557100  Yarram and District Health Service      3971   \n",
       "323  146.006833 -36.011198                   Yarrawonga Health      3730   \n",
       "324  145.431300 -37.213900  Yea and District Memorial Hospital      3717   \n",
       "\n",
       "        Telephone                       Address  \n",
       "320           NaN     242A HOPPERS LANE,WYNDHAM  \n",
       "321  03 9091 8888     25 MARKET STREET,LILYDALE  \n",
       "322  03 5182 0222  85-91 COMMERCIAL ROAD,YARRAM  \n",
       "323  03 5743 8111    33 PIPER STREET,YARRAWONGA  \n",
       "324  03 5736 0400         45 STATION STREET,YEA  "
      ]
     },
     "execution_count": 41,
     "metadata": {},
     "output_type": "execute_result"
    }
   ],
   "source": [
    "hospital.tail()"
   ]
  },
  {
   "cell_type": "code",
   "execution_count": 42,
   "metadata": {},
   "outputs": [
    {
     "data": {
      "text/plain": [
       "(325, 6)"
      ]
     },
     "execution_count": 42,
     "metadata": {},
     "output_type": "execute_result"
    }
   ],
   "source": [
    "hospital.shape"
   ]
  },
  {
   "cell_type": "markdown",
   "metadata": {},
   "source": [
    "### The dataset has 325 rows and 6 columns . Now let's export the dataset as a csv file."
   ]
  },
  {
   "cell_type": "code",
   "execution_count": 43,
   "metadata": {},
   "outputs": [],
   "source": [
    "hospital.to_csv(\"hospitals.csv\", index = False, header= True)"
   ]
  },
  {
   "cell_type": "markdown",
   "metadata": {},
   "source": [
    "## References"
   ]
  },
  {
   "cell_type": "markdown",
   "metadata": {},
   "source": [
    "Melbourne Metropolitan Hospitals & Health Services Locations\n",
    "https://www.healthcollect.vic.gov.au/HospitalLists/MetroHospitalList.aspx\n",
    "\n",
    "Rural Hospitals & Health Services Locations\n",
    "https://www.healthcollect.vic.gov.au/HospitalLists/RuralHospitalList.aspx\n",
    "    \n",
    "Hospitals Locations in Victoria\n",
    "https://discover.data.vic.gov.au/dataset/hospital-locations-spatial\n"
   ]
  }
 ],
 "metadata": {
  "kernelspec": {
   "display_name": "Python 3",
   "language": "python",
   "name": "python3"
  },
  "language_info": {
   "codemirror_mode": {
    "name": "ipython",
    "version": 3
   },
   "file_extension": ".py",
   "mimetype": "text/x-python",
   "name": "python",
   "nbconvert_exporter": "python",
   "pygments_lexer": "ipython3",
   "version": "3.6.4"
  }
 },
 "nbformat": 4,
 "nbformat_minor": 2
}
